{
  "cells": [
    {
      "cell_type": "markdown",
      "metadata": {
        "id": "view-in-github",
        "colab_type": "text"
      },
      "source": [
        "<a href=\"https://colab.research.google.com/github/pksvv/lang-transformers/blob/main/TF_SentimentAnalysis.ipynb\" target=\"_parent\"><img src=\"https://colab.research.google.com/assets/colab-badge.svg\" alt=\"Open In Colab\"/></a>"
      ]
    },
    {
      "cell_type": "markdown",
      "metadata": {
        "id": "d_VK-Lh3x2UO"
      },
      "source": [
        "* Data Preprocessing\n",
        "* TF input pipeline\n",
        "* Building and Training\n",
        "* Making Predictions"
      ]
    },
    {
      "cell_type": "markdown",
      "metadata": {
        "id": "GlJdAMIXytNr"
      },
      "source": [
        "# Dataset\n",
        "\n",
        "https://www.kaggle.com/c/sentiment-analysis-on-movie-reviews/data"
      ]
    },
    {
      "cell_type": "code",
      "execution_count": 2,
      "metadata": {
        "colab": {
          "base_uri": "https://localhost:8080/"
        },
        "id": "-8Wbf7skwo9G",
        "outputId": "e0cbf629-db24-4466-9f4a-dcda073178b2"
      },
      "outputs": [
        {
          "output_type": "stream",
          "name": "stdout",
          "text": [
            "Requirement already satisfied: kaggle in /usr/local/lib/python3.7/dist-packages (1.5.12)\n",
            "Requirement already satisfied: requests in /usr/local/lib/python3.7/dist-packages (from kaggle) (2.23.0)\n",
            "Requirement already satisfied: certifi in /usr/local/lib/python3.7/dist-packages (from kaggle) (2021.10.8)\n",
            "Requirement already satisfied: python-dateutil in /usr/local/lib/python3.7/dist-packages (from kaggle) (2.8.2)\n",
            "Requirement already satisfied: urllib3 in /usr/local/lib/python3.7/dist-packages (from kaggle) (1.24.3)\n",
            "Requirement already satisfied: six>=1.10 in /usr/local/lib/python3.7/dist-packages (from kaggle) (1.15.0)\n",
            "Requirement already satisfied: python-slugify in /usr/local/lib/python3.7/dist-packages (from kaggle) (5.0.2)\n",
            "Requirement already satisfied: tqdm in /usr/local/lib/python3.7/dist-packages (from kaggle) (4.62.3)\n",
            "Requirement already satisfied: text-unidecode>=1.3 in /usr/local/lib/python3.7/dist-packages (from python-slugify->kaggle) (1.3)\n",
            "Requirement already satisfied: chardet<4,>=3.0.2 in /usr/local/lib/python3.7/dist-packages (from requests->kaggle) (3.0.4)\n",
            "Requirement already satisfied: idna<3,>=2.5 in /usr/local/lib/python3.7/dist-packages (from requests->kaggle) (2.10)\n"
          ]
        }
      ],
      "source": [
        "pip install kaggle"
      ]
    },
    {
      "cell_type": "code",
      "execution_count": 3,
      "metadata": {
        "colab": {
          "base_uri": "https://localhost:8080/"
        },
        "id": "WL9Wy99zyBb7",
        "outputId": "c1fa3613-9f76-4686-dd95-ea2cd09197a6"
      },
      "outputs": [
        {
          "output_type": "stream",
          "name": "stdout",
          "text": [
            "cp: cannot stat 'kaggle.json': No such file or directory\n"
          ]
        }
      ],
      "source": [
        "! cp kaggle.json ~/.kaggle/"
      ]
    },
    {
      "cell_type": "code",
      "execution_count": 4,
      "metadata": {
        "colab": {
          "base_uri": "https://localhost:8080/"
        },
        "id": "SHNChIXByBe_",
        "outputId": "cb08d280-21cb-4273-928c-f63ee7016505"
      },
      "outputs": [
        {
          "output_type": "stream",
          "name": "stdout",
          "text": [
            "total 64K\n",
            "-r-xr-xr-x 1 root root  254 Jan  1  2000 \u001b[0m\u001b[01;32m.tmux.conf\u001b[0m*\n",
            "-r-xr-xr-x 1 root root 1.2K Jan  1  2000 \u001b[01;32m.bashrc\u001b[0m*\n",
            "-rw-r--r-- 1 root root  148 Aug 17  2015 .profile\n",
            "drwxr-xr-x 3 root root 4.0K Dec  3 14:33 \u001b[01;34m.gsutil\u001b[0m/\n",
            "drwxr-xr-x 5 root root 4.0K Dec 16 14:10 \u001b[01;34m.ipython\u001b[0m/\n",
            "drwx------ 1 root root 4.0K Dec 16 14:10 \u001b[01;34m.local\u001b[0m/\n",
            "drwx------ 2 root root 4.0K Dec 16 14:10 \u001b[01;34m.jupyter\u001b[0m/\n",
            "drwxr-xr-x 1 root root 4.0K Dec 16 14:10 \u001b[01;34m.config\u001b[0m/\n",
            "drwxr-xr-x 4 root root 4.0K Dec 16 14:11 \u001b[01;34m.npm\u001b[0m/\n",
            "drwxr-xr-x 1 root root 4.0K Dec 16 14:13 \u001b[01;34m.cache\u001b[0m/\n",
            "drwxr-xr-x 1 root root 4.0K Dec 31 08:07 \u001b[01;34m..\u001b[0m/\n",
            "drwxr-xr-x 2 root root 4.0K Dec 31 08:07 \u001b[01;34m.keras\u001b[0m/\n",
            "drwxr-xr-x 2 root root 4.0K Dec 31 08:08 \u001b[01;34m.kaggle\u001b[0m/\n",
            "drwx------ 1 root root 4.0K Dec 31 08:08 \u001b[01;34m.\u001b[0m/\n"
          ]
        }
      ],
      "source": [
        "ls -alrth ~"
      ]
    },
    {
      "cell_type": "code",
      "source": [
        "mkdir ~/.kaggle"
      ],
      "metadata": {
        "colab": {
          "base_uri": "https://localhost:8080/"
        },
        "id": "Q68w5SBxifOR",
        "outputId": "bf58d15f-58f4-4517-95eb-320c1876fb1f"
      },
      "execution_count": 9,
      "outputs": [
        {
          "output_type": "stream",
          "name": "stdout",
          "text": [
            "mkdir: cannot create directory ‘/root/.kaggle’: File exists\n"
          ]
        }
      ]
    },
    {
      "cell_type": "code",
      "execution_count": 10,
      "metadata": {
        "id": "1EA0gExJ0o9x"
      },
      "outputs": [],
      "source": [
        "mv ~/kaggle.json ~/.kaggle/kaggle.json"
      ]
    },
    {
      "cell_type": "code",
      "execution_count": 11,
      "metadata": {
        "colab": {
          "base_uri": "https://localhost:8080/"
        },
        "id": "hxW6rnXb1NFi",
        "outputId": "3c3780df-f0db-428e-9a95-44213ae38936"
      },
      "outputs": [
        {
          "output_type": "stream",
          "name": "stdout",
          "text": [
            "kaggle.json\n"
          ]
        }
      ],
      "source": [
        "ls ~/.kaggle"
      ]
    },
    {
      "cell_type": "code",
      "execution_count": 12,
      "metadata": {
        "colab": {
          "base_uri": "https://localhost:8080/"
        },
        "id": "VNVoJlqeyBV0",
        "outputId": "2c2ce80d-b798-44ae-ccb9-fe588ad3c06f"
      },
      "outputs": [
        {
          "output_type": "stream",
          "name": "stdout",
          "text": [
            "Warning: Your Kaggle API key is readable by other users on this system! To fix this, you can run 'chmod 600 /root/.kaggle/kaggle.json'\n"
          ]
        }
      ],
      "source": [
        "import kaggle"
      ]
    },
    {
      "cell_type": "code",
      "execution_count": 13,
      "metadata": {
        "id": "De0wd59q1f86"
      },
      "outputs": [],
      "source": [
        "from kaggle.api.kaggle_api_extended import KaggleApi"
      ]
    },
    {
      "cell_type": "code",
      "execution_count": 14,
      "metadata": {
        "id": "SzHPlWav1f_p"
      },
      "outputs": [],
      "source": [
        "api = KaggleApi()"
      ]
    },
    {
      "cell_type": "code",
      "execution_count": 15,
      "metadata": {
        "id": "pB07QAXf1gDR",
        "colab": {
          "base_uri": "https://localhost:8080/"
        },
        "outputId": "28cd894d-b4d8-45a1-9d4c-1036d2b94a67"
      },
      "outputs": [
        {
          "output_type": "stream",
          "name": "stdout",
          "text": [
            "Warning: Your Kaggle API key is readable by other users on this system! To fix this, you can run 'chmod 600 /root/.kaggle/kaggle.json'\n"
          ]
        }
      ],
      "source": [
        "api.authenticate()"
      ]
    },
    {
      "cell_type": "code",
      "source": [
        "api.competition_download_file('sentiment-analysis-on-movie-reviews',\n",
        "                              'test.tsv.zip',\n",
        "                              path='./')\n",
        "\n",
        "api.competition_download_file('sentiment-analysis-on-movie-reviews',\n",
        "                              'train.tsv.zip',\n",
        "                              path='./')"
      ],
      "metadata": {
        "colab": {
          "base_uri": "https://localhost:8080/"
        },
        "id": "ncKiJE95iqbf",
        "outputId": "ba1960a6-f2b7-4f2a-8aca-01486605f6d4"
      },
      "execution_count": 16,
      "outputs": [
        {
          "output_type": "stream",
          "name": "stdout",
          "text": [
            "Downloading test.tsv.zip to .\n"
          ]
        },
        {
          "output_type": "stream",
          "name": "stderr",
          "text": [
            "100%|██████████| 494k/494k [00:00<00:00, 54.7MB/s]"
          ]
        },
        {
          "output_type": "stream",
          "name": "stdout",
          "text": [
            "\n"
          ]
        },
        {
          "output_type": "stream",
          "name": "stderr",
          "text": [
            "\n"
          ]
        },
        {
          "output_type": "stream",
          "name": "stdout",
          "text": [
            "Downloading train.tsv.zip to .\n"
          ]
        },
        {
          "output_type": "stream",
          "name": "stderr",
          "text": [
            "100%|██████████| 1.28M/1.28M [00:00<00:00, 97.7MB/s]"
          ]
        },
        {
          "output_type": "stream",
          "name": "stdout",
          "text": [
            "\n"
          ]
        },
        {
          "output_type": "stream",
          "name": "stderr",
          "text": [
            "\n"
          ]
        }
      ]
    },
    {
      "cell_type": "code",
      "source": [
        ""
      ],
      "metadata": {
        "id": "TLVgN87Ei7Is"
      },
      "execution_count": null,
      "outputs": []
    },
    {
      "cell_type": "code",
      "source": [
        ""
      ],
      "metadata": {
        "id": "Q2c9Fifgi7Lc"
      },
      "execution_count": null,
      "outputs": []
    },
    {
      "cell_type": "code",
      "source": [
        ""
      ],
      "metadata": {
        "id": "NQJpPt7Pi7OV"
      },
      "execution_count": null,
      "outputs": []
    },
    {
      "cell_type": "code",
      "source": [
        ""
      ],
      "metadata": {
        "id": "DA5A4F0Ki7RG"
      },
      "execution_count": null,
      "outputs": []
    }
  ],
  "metadata": {
    "colab": {
      "collapsed_sections": [],
      "name": "TF-SentimentAnalysis.ipynb",
      "provenance": [],
      "authorship_tag": "ABX9TyMVVk3bPhGecW6hRaSdoe1L",
      "include_colab_link": true
    },
    "kernelspec": {
      "display_name": "Python 3",
      "name": "python3"
    },
    "language_info": {
      "name": "python"
    }
  },
  "nbformat": 4,
  "nbformat_minor": 0
}